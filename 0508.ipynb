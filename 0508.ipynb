{
 "cells": [
  {
   "cell_type": "code",
   "execution_count": null,
   "id": "5db9f5f7",
   "metadata": {},
   "outputs": [
    {
     "name": "stderr",
     "output_type": "stream",
     "text": [
      "25/05/13 15:26:07 WARN Utils: Your hostname, cs-spatial-501 resolves to a loopback address: 127.0.0.1; using 128.101.33.153 instead (on interface eno1)\n",
      "25/05/13 15:26:07 WARN Utils: Set SPARK_LOCAL_IP if you need to bind to another address\n",
      "https://artifacts.unidata.ucar.edu/repository/unidata-all/ added as a remote repository with the name: repo-1\n",
      "Ivy Default Cache set to: /home/huan1531/.ivy2/cache\n",
      "The jars for the packages stored in: /home/huan1531/.ivy2/jars\n",
      "org.apache.sedona#sedona-spark-3.5_2.12 added as a dependency\n",
      "org.datasyslab#geotools-wrapper added as a dependency\n",
      "edu.ucar#cdm-core added as a dependency\n",
      ":: resolving dependencies :: org.apache.spark#spark-submit-parent-615007b0-a7ea-435b-a39d-d19dee4cb882;1.0\n",
      "\tconfs: [default]\n"
     ]
    },
    {
     "name": "stdout",
     "output_type": "stream",
     "text": [
      ":: loading settings :: url = jar:file:/export/scratch/huan1531/sedona-exp/venv/lib/python3.11/site-packages/pyspark/jars/ivy-2.5.1.jar!/org/apache/ivy/core/settings/ivysettings.xml\n"
     ]
    },
    {
     "name": "stderr",
     "output_type": "stream",
     "text": [
      "\tfound org.apache.sedona#sedona-spark-3.5_2.12;1.7.1 in central\n",
      "\tfound org.apache.sedona#sedona-common;1.7.1 in central\n",
      "\tfound org.apache.commons#commons-math3;3.6.1 in central\n",
      "\tfound org.locationtech.jts#jts-core;1.20.0 in central\n",
      "\tfound org.wololo#jts2geojson;0.16.1 in central\n",
      "\tfound org.locationtech.spatial4j#spatial4j;0.8 in central\n",
      "\tfound com.google.geometry#s2-geometry;2.0.0 in central\n",
      "\tfound com.google.guava#guava;25.1-jre in central\n",
      "\tfound com.google.code.findbugs#jsr305;3.0.2 in central\n",
      "\tfound org.checkerframework#checker-qual;2.0.0 in central\n",
      "\tfound com.google.errorprone#error_prone_annotations;2.1.3 in central\n",
      "\tfound com.google.j2objc#j2objc-annotations;1.1 in central\n",
      "\tfound org.codehaus.mojo#animal-sniffer-annotations;1.14 in central\n",
      "\tfound com.uber#h3;4.1.1 in central\n",
      "\tfound net.sf.geographiclib#GeographicLib-Java;1.52 in central\n",
      "\tfound com.github.ben-manes.caffeine#caffeine;2.9.2 in central\n",
      "\tfound org.checkerframework#checker-qual;3.10.0 in central\n",
      "\tfound com.google.errorprone#error_prone_annotations;2.5.1 in central\n",
      "\tfound org.apache.sedona#sedona-spark-common-3.5_2.12;1.7.1 in central\n",
      "\tfound org.apache.sedona#shade-proto;1.7.1 in central\n",
      "\tfound org.xerial#sqlite-jdbc;3.41.2.2 in central\n",
      "\tfound commons-lang#commons-lang;2.6 in central\n",
      "\tfound graphframes#graphframes;0.8.3-spark3.5-s_2.12 in spark-packages\n",
      "\tfound org.slf4j#slf4j-api;1.7.36 in central\n",
      "\tfound org.scala-lang.modules#scala-collection-compat_2.12;2.5.0 in central\n",
      "\tfound org.beryx#awt-color-factory;1.0.0 in central\n",
      "\tfound org.datasyslab#geotools-wrapper;1.7.1-28.5 in central\n",
      "\tfound edu.ucar#cdm-core;5.4.2 in repo-1\n",
      "\tfound edu.ucar#udunits;5.4.2 in repo-1\n",
      "\tfound edu.ucar#httpservices;5.4.2 in repo-1\n",
      "\tfound com.google.guava#guava;30.1-jre in central\n",
      "\tfound com.google.guava#failureaccess;1.0.1 in central\n",
      "\tfound com.google.guava#listenablefuture;9999.0-empty-to-avoid-conflict-with-guava in central\n",
      "\tfound com.google.j2objc#j2objc-annotations;1.3 in central\n",
      "\tfound org.apache.httpcomponents#httpclient;4.5.13 in central\n",
      "\tfound org.apache.httpcomponents#httpcore;4.4.13 in central\n",
      "\tfound commons-logging#commons-logging;1.2 in central\n",
      "\tfound commons-codec#commons-codec;1.11 in central\n",
      "\tfound org.apache.httpcomponents#httpmime;4.5.13 in central\n",
      "\tfound com.google.re2j#re2j;1.3 in central\n",
      "\tfound com.beust#jcommander;1.78 in central\n",
      "\tfound com.google.protobuf#protobuf-java;3.12.4 in central\n",
      "\tfound joda-time#joda-time;2.10.3 in central\n",
      "\tfound org.jdom#jdom2;2.0.6 in central\n",
      ":: resolution report :: resolve 1336ms :: artifacts dl 68ms\n",
      "\t:: modules in use:\n",
      "\tcom.beust#jcommander;1.78 from central in [default]\n",
      "\tcom.github.ben-manes.caffeine#caffeine;2.9.2 from central in [default]\n",
      "\tcom.google.code.findbugs#jsr305;3.0.2 from central in [default]\n",
      "\tcom.google.errorprone#error_prone_annotations;2.5.1 from central in [default]\n",
      "\tcom.google.geometry#s2-geometry;2.0.0 from central in [default]\n",
      "\tcom.google.guava#failureaccess;1.0.1 from central in [default]\n",
      "\tcom.google.guava#guava;30.1-jre from central in [default]\n",
      "\tcom.google.guava#listenablefuture;9999.0-empty-to-avoid-conflict-with-guava from central in [default]\n",
      "\tcom.google.j2objc#j2objc-annotations;1.3 from central in [default]\n",
      "\tcom.google.protobuf#protobuf-java;3.12.4 from central in [default]\n",
      "\tcom.google.re2j#re2j;1.3 from central in [default]\n",
      "\tcom.uber#h3;4.1.1 from central in [default]\n",
      "\tcommons-codec#commons-codec;1.11 from central in [default]\n",
      "\tcommons-lang#commons-lang;2.6 from central in [default]\n",
      "\tcommons-logging#commons-logging;1.2 from central in [default]\n",
      "\tedu.ucar#cdm-core;5.4.2 from repo-1 in [default]\n",
      "\tedu.ucar#httpservices;5.4.2 from repo-1 in [default]\n",
      "\tedu.ucar#udunits;5.4.2 from repo-1 in [default]\n",
      "\tgraphframes#graphframes;0.8.3-spark3.5-s_2.12 from spark-packages in [default]\n",
      "\tjoda-time#joda-time;2.10.3 from central in [default]\n",
      "\tnet.sf.geographiclib#GeographicLib-Java;1.52 from central in [default]\n",
      "\torg.apache.commons#commons-math3;3.6.1 from central in [default]\n",
      "\torg.apache.httpcomponents#httpclient;4.5.13 from central in [default]\n",
      "\torg.apache.httpcomponents#httpcore;4.4.13 from central in [default]\n",
      "\torg.apache.httpcomponents#httpmime;4.5.13 from central in [default]\n",
      "\torg.apache.sedona#sedona-common;1.7.1 from central in [default]\n",
      "\torg.apache.sedona#sedona-spark-3.5_2.12;1.7.1 from central in [default]\n",
      "\torg.apache.sedona#sedona-spark-common-3.5_2.12;1.7.1 from central in [default]\n",
      "\torg.apache.sedona#shade-proto;1.7.1 from central in [default]\n",
      "\torg.beryx#awt-color-factory;1.0.0 from central in [default]\n",
      "\torg.checkerframework#checker-qual;3.10.0 from central in [default]\n",
      "\torg.datasyslab#geotools-wrapper;1.7.1-28.5 from central in [default]\n",
      "\torg.jdom#jdom2;2.0.6 from central in [default]\n",
      "\torg.locationtech.jts#jts-core;1.20.0 from central in [default]\n",
      "\torg.locationtech.spatial4j#spatial4j;0.8 from central in [default]\n",
      "\torg.scala-lang.modules#scala-collection-compat_2.12;2.5.0 from central in [default]\n",
      "\torg.slf4j#slf4j-api;1.7.36 from central in [default]\n",
      "\torg.wololo#jts2geojson;0.16.1 from central in [default]\n",
      "\torg.xerial#sqlite-jdbc;3.41.2.2 from central in [default]\n",
      "\t:: evicted modules:\n",
      "\tcom.google.guava#guava;25.1-jre by [com.google.guava#guava;30.1-jre] in [default]\n",
      "\torg.checkerframework#checker-qual;2.0.0 by [org.checkerframework#checker-qual;3.10.0] in [default]\n",
      "\tcom.google.errorprone#error_prone_annotations;2.1.3 by [com.google.errorprone#error_prone_annotations;2.5.1] in [default]\n",
      "\tcom.google.j2objc#j2objc-annotations;1.1 by [com.google.j2objc#j2objc-annotations;1.3] in [default]\n",
      "\torg.codehaus.mojo#animal-sniffer-annotations;1.14 transitively in [default]\n",
      "\torg.checkerframework#checker-qual;3.5.0 by [org.checkerframework#checker-qual;3.10.0] in [default]\n",
      "\tcom.google.errorprone#error_prone_annotations;2.3.4 by [com.google.errorprone#error_prone_annotations;2.5.1] in [default]\n",
      "\torg.slf4j#slf4j-api;1.7.28 by [org.slf4j#slf4j-api;1.7.36] in [default]\n",
      "\t---------------------------------------------------------------------\n",
      "\t|                  |            modules            ||   artifacts   |\n",
      "\t|       conf       | number| search|dwnlded|evicted|| number|dwnlded|\n",
      "\t---------------------------------------------------------------------\n",
      "\t|      default     |   47  |   0   |   0   |   8   ||   39  |   0   |\n",
      "\t---------------------------------------------------------------------\n",
      ":: retrieving :: org.apache.spark#spark-submit-parent-615007b0-a7ea-435b-a39d-d19dee4cb882\n",
      "\tconfs: [default]\n",
      "\t0 artifacts copied, 39 already retrieved (0kB/36ms)\n",
      "25/05/13 15:26:09 WARN NativeCodeLoader: Unable to load native-hadoop library for your platform... using builtin-java classes where applicable\n",
      "Setting default log level to \"WARN\".\n",
      "To adjust logging level use sc.setLogLevel(newLevel). For SparkR, use setLogLevel(newLevel).\n",
      "                                                                                \r"
     ]
    },
    {
     "name": "stderr",
     "output_type": "stream",
     "text": [
      "25/05/13 15:26:22 WARN GarbageCollectionMetrics: To enable non-built-in garbage collector(s) List(G1 Concurrent GC), users should configure it(them) to spark.eventLog.gcMetrics.youngGenerationGarbageCollectors or spark.eventLog.gcMetrics.oldGenerationGarbageCollectors\n"
     ]
    }
   ],
   "source": [
    "# start sedona\n",
    "\n",
    "from sedona.spark import SedonaContext\n",
    "\n",
    "config = SedonaContext.builder(). \\\n",
    "    config('spark.jars.repositories', 'https://artifacts.unidata.ucar.edu/repository/unidata-all/'). \\\n",
    "    config('spark.jars.packages',\n",
    "           'org.apache.sedona:sedona-spark-3.5_2.12:1.7.1,'\n",
    "           'org.datasyslab:geotools-wrapper:1.7.1-28.5,'\n",
    "           'edu.ucar:cdm-core:5.4.2'). \\\n",
    "    config('spark.driver.memory', '10g'). \\\n",
    "    config('spark.driver.maxResultSize', '5g'). \\\n",
    "    config('spark.network.timeout', '1000s'). \\\n",
    "    getOrCreate()\n",
    "\n",
    "sedona = SedonaContext.create(config)"
   ]
  },
  {
   "cell_type": "code",
   "execution_count": 9,
   "id": "e3564373",
   "metadata": {},
   "outputs": [],
   "source": [
    "df = sedona.read.format(\"binaryFile\").load(\"data/2m_temperature-2020-01-0*.nc\")"
   ]
  },
  {
   "cell_type": "code",
   "execution_count": 3,
   "id": "5084fbe7",
   "metadata": {},
   "outputs": [
    {
     "name": "stderr",
     "output_type": "stream",
     "text": [
      "                                                                                \r"
     ]
    },
    {
     "name": "stdout",
     "output_type": "stream",
     "text": [
      "+--------------------+--------------------+-------+--------------------+\n",
      "|                path|    modificationTime| length|             content|\n",
      "+--------------------+--------------------+-------+--------------------+\n",
      "|file:/export/scra...|2025-05-09 12:21:...|2097704|[89 48 44 46 0D 0...|\n",
      "|file:/export/scra...|2025-05-09 12:21:...|2097704|[89 48 44 46 0D 0...|\n",
      "|file:/export/scra...|2025-05-09 12:21:...|2097704|[89 48 44 46 0D 0...|\n",
      "|file:/export/scra...|2025-05-09 12:21:...|2097704|[89 48 44 46 0D 0...|\n",
      "|file:/export/scra...|2025-05-09 12:21:...|2097704|[89 48 44 46 0D 0...|\n",
      "|file:/export/scra...|2025-05-09 12:21:...|2097704|[89 48 44 46 0D 0...|\n",
      "|file:/export/scra...|2025-05-09 12:21:...|2097704|[89 48 44 46 0D 0...|\n",
      "|file:/export/scra...|2025-05-09 12:21:...|2097704|[89 48 44 46 0D 0...|\n",
      "|file:/export/scra...|2025-05-09 12:21:...|2097704|[89 48 44 46 0D 0...|\n",
      "+--------------------+--------------------+-------+--------------------+\n",
      "\n"
     ]
    }
   ],
   "source": [
    "df.show()"
   ]
  },
  {
   "cell_type": "code",
   "execution_count": 10,
   "id": "35f52e40",
   "metadata": {},
   "outputs": [],
   "source": [
    "from pyspark.sql import functions as f\n",
    "\n",
    "df = df.withColumn(\"raster\", f.expr(\"RS_FromNetCDF(content, 't2m', 'longitude', 'latitude')\"))"
   ]
  },
  {
   "cell_type": "code",
   "execution_count": 5,
   "id": "64c6964c",
   "metadata": {},
   "outputs": [
    {
     "name": "stderr",
     "output_type": "stream",
     "text": [
      "                                                                                \r"
     ]
    },
    {
     "name": "stdout",
     "output_type": "stream",
     "text": [
      "+--------------------+--------------------+-------+--------------------+--------------------+\n",
      "|                path|    modificationTime| length|             content|              raster|\n",
      "+--------------------+--------------------+-------+--------------------+--------------------+\n",
      "|file:/export/scra...|2025-05-09 12:21:...|2097704|[89 48 44 46 0D 0...|GridCoverage2D[\"g...|\n",
      "|file:/export/scra...|2025-05-09 12:21:...|2097704|[89 48 44 46 0D 0...|GridCoverage2D[\"g...|\n",
      "|file:/export/scra...|2025-05-09 12:21:...|2097704|[89 48 44 46 0D 0...|GridCoverage2D[\"g...|\n",
      "|file:/export/scra...|2025-05-09 12:21:...|2097704|[89 48 44 46 0D 0...|GridCoverage2D[\"g...|\n",
      "|file:/export/scra...|2025-05-09 12:21:...|2097704|[89 48 44 46 0D 0...|GridCoverage2D[\"g...|\n",
      "|file:/export/scra...|2025-05-09 12:21:...|2097704|[89 48 44 46 0D 0...|GridCoverage2D[\"g...|\n",
      "|file:/export/scra...|2025-05-09 12:21:...|2097704|[89 48 44 46 0D 0...|GridCoverage2D[\"g...|\n",
      "|file:/export/scra...|2025-05-09 12:21:...|2097704|[89 48 44 46 0D 0...|GridCoverage2D[\"g...|\n",
      "|file:/export/scra...|2025-05-09 12:21:...|2097704|[89 48 44 46 0D 0...|GridCoverage2D[\"g...|\n",
      "+--------------------+--------------------+-------+--------------------+--------------------+\n",
      "\n"
     ]
    }
   ],
   "source": [
    "df.show()"
   ]
  },
  {
   "cell_type": "code",
   "execution_count": 11,
   "id": "0cc3a880",
   "metadata": {},
   "outputs": [
    {
     "name": "stdout",
     "output_type": "stream",
     "text": [
      "+---------------------------------+\n",
      "|band                             |\n",
      "+---------------------------------+\n",
      "|t2m(latitude=721, longitude=1440)|\n",
      "|t2m(latitude=721, longitude=1440)|\n",
      "|t2m(latitude=721, longitude=1440)|\n",
      "|t2m(latitude=721, longitude=1440)|\n",
      "|t2m(latitude=721, longitude=1440)|\n",
      "|t2m(latitude=721, longitude=1440)|\n",
      "|t2m(latitude=721, longitude=1440)|\n",
      "|t2m(latitude=721, longitude=1440)|\n",
      "|t2m(latitude=721, longitude=1440)|\n",
      "+---------------------------------+\n",
      "\n"
     ]
    }
   ],
   "source": [
    "df.createOrReplaceTempView(\"NetCDF\")\n",
    "sedona.sql(\"SELECT RS_NetCDFInfo(content) as band FROM NetCDF\").show(truncate=False)"
   ]
  },
  {
   "cell_type": "code",
   "execution_count": 12,
   "id": "1b52bb96",
   "metadata": {},
   "outputs": [
    {
     "name": "stdout",
     "output_type": "stream",
     "text": [
      "+---------------------------------------------------------------------+\n",
      "|rs_metadata(raster)                                                  |\n",
      "+---------------------------------------------------------------------+\n",
      "|{-180.125, 90.125, 1440, 721, 0.25, -0.25, 0.0, 0.0, 0, 1, 1440, 721}|\n",
      "|{-180.125, 90.125, 1440, 721, 0.25, -0.25, 0.0, 0.0, 0, 1, 1440, 721}|\n",
      "|{-180.125, 90.125, 1440, 721, 0.25, -0.25, 0.0, 0.0, 0, 1, 1440, 721}|\n",
      "|{-180.125, 90.125, 1440, 721, 0.25, -0.25, 0.0, 0.0, 0, 1, 1440, 721}|\n",
      "|{-180.125, 90.125, 1440, 721, 0.25, -0.25, 0.0, 0.0, 0, 1, 1440, 721}|\n",
      "|{-180.125, 90.125, 1440, 721, 0.25, -0.25, 0.0, 0.0, 0, 1, 1440, 721}|\n",
      "|{-180.125, 90.125, 1440, 721, 0.25, -0.25, 0.0, 0.0, 0, 1, 1440, 721}|\n",
      "|{-180.125, 90.125, 1440, 721, 0.25, -0.25, 0.0, 0.0, 0, 1, 1440, 721}|\n",
      "|{-180.125, 90.125, 1440, 721, 0.25, -0.25, 0.0, 0.0, 0, 1, 1440, 721}|\n",
      "+---------------------------------------------------------------------+\n",
      "\n"
     ]
    }
   ],
   "source": [
    "sedona.sql(\"SELECT RS_MetaData(raster) FROM NetCDF\").show(truncate=False)"
   ]
  },
  {
   "cell_type": "code",
   "execution_count": null,
   "id": "6fe5aa21",
   "metadata": {},
   "outputs": [],
   "source": [
    "# All in one\n",
    "\n",
    "from pyspark.sql import functions as f\n",
    "\n",
    "df = (\n",
    "    sedona.read.format(\"binaryFile\")\n",
    "    .load(\"data/2m_temperature-2020-01-0*.nc\")\n",
    "    .withColumn(\"raster\", f.expr(\"RS_FromNetCDF(content, 't2m', 'longitude', 'latitude')\"))\n",
    "    # .selectExpr(\"RS_FromNetCDF(content, 't2m', 'longitude', 'latitude') as raster\")\n",
    ")\n",
    "df.show()"
   ]
  },
  {
   "cell_type": "code",
   "execution_count": null,
   "id": "389fc88e",
   "metadata": {},
   "outputs": [],
   "source": [
    "sedona.stop()"
   ]
  }
 ],
 "metadata": {
  "kernelspec": {
   "display_name": "venv",
   "language": "python",
   "name": "python3"
  },
  "language_info": {
   "codemirror_mode": {
    "name": "ipython",
    "version": 3
   },
   "file_extension": ".py",
   "mimetype": "text/x-python",
   "name": "python",
   "nbconvert_exporter": "python",
   "pygments_lexer": "ipython3",
   "version": "3.11.0rc1"
  }
 },
 "nbformat": 4,
 "nbformat_minor": 5
}
